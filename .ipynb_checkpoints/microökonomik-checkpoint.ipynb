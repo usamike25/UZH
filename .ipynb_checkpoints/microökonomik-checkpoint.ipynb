{
 "cells": [
  {
   "cell_type": "code",
   "execution_count": 1,
   "id": "c1d3a14f",
   "metadata": {},
   "outputs": [],
   "source": [
    "from sympy import *\n",
    "from sympy import sympify\n",
    "import sympy as sp\n",
    "import numpy as np\n",
    "import math\n",
    "import matplotlib.pyplot as plt"
   ]
  },
  {
   "cell_type": "code",
   "execution_count": 2,
   "id": "ed351902",
   "metadata": {},
   "outputs": [],
   "source": [
    "def cobbDouglas():\n",
    "    x1, x2, p1, p2, m, u = sp.symbols('x1 x2 p1 p2 m u')\n",
    "    text_function = input(\"\"\"Please type function (Ex: x1^2 * x2^3): \"\"\")\n",
    "    utility_function = sp.sympify(text_function)\n",
    "    mux = utility_function.diff(x1)\n",
    "    muy = utility_function.diff(x2)\n",
    "    print(\"GRS =  %s / %s\" % (mux, muy))\n",
    "    eq1 = sp.Eq(mux / muy, p1 / p2)\n",
    "    ans = sp.solve(eq1, x2)\n",
    "    pres = p1 * x1 + x2 * p2\n",
    "    #xGraph = np.linspace(-100, 100, 100)\n",
    "    #yGraph = 2*xGraph\n",
    "    pres = pres.subs(x2, ans[0])\n",
    "    pres = sp.Eq(m, pres)\n",
    "    xMarshall = sp.solve(pres, x1)\n",
    "    print(\"marshallsche(x1)= %s\" % xMarshall[0])\n",
    "    yMarshall = ans[0].subs(x1, xMarshall[0])\n",
    "    print(\"marshallsche(x2)= %s\" % yMarshall)\n",
    "    indirect_utility = utility_function.subs({x1: xMarshall, x2: yMarshall})\n",
    "    print(\"v(p1,p2,m)= %s * Remember to substitute x1 with: %s *\" % (indirect_utility, xMarshall))\n",
    "\n",
    "\n",
    "    eq1 = sp.Eq(mux / muy, p1 / p2)\n",
    "    ans = sp.solve(eq1, x2)\n",
    "    utility_function = utility_function.subs(x2, ans[0])\n",
    "    utility_function = sp.Eq(u, utility_function)\n",
    "    xHicksian = sp.solve(utility_function, x1)\n",
    "    print(\"Hickssche(x1)= %s\" % xHicksian[0])\n",
    "    yHicksian = ans[0].subs(x1, xHicksian[0])\n",
    "    print(\"Hickssche(x2)= %s\" % yHicksian)\n",
    "    \n",
    "    print(\"\\n\")\n",
    "    print(\"simplifyed:\\n\")\n",
    "    print(f\"GRS =  {simplify(mux/muy)}\")\n",
    "    print(f\"marshallsche(x1)= {xMarshall[0].simplify()}\") \n",
    "    print(f\"marshallsche(x2)= {yMarshall.simplify()}\")\n",
    "    print(f\"Hickssche(x1)= {xHicksian[0].simplify()}\")\n",
    "    print(f\"Hickssche(x2)= {yHicksian.simplify()}\")\n",
    "    \n",
    "    # the function, which is y = x^2 here\n",
    "\n",
    "    # setting the axes at the centre\n",
    "    #fig = plt.figure()\n",
    "    #ax = fig.add_subplot(1, 1, 1)\n",
    "    #ax.spines['left'].set_position('center')\n",
    "    #ax.spines['bottom'].set_position('zero')\n",
    "    #ax.spines['right'].set_color('none')\n",
    "    #ax.spines['top'].set_color('none')\n",
    "    #ax.xaxis.set_ticks_position('bottom')\n",
    "    #ax.yaxis.set_ticks_position('left')\n",
    "\n",
    "    #plot the function\n",
    "    #plt.plot(xGraph, yGraph, 'r')\n",
    "\n",
    "    # show the plot\n",
    "    #plt.show()\n",
    "\n",
    "\n",
    "def linear():\n",
    "    x1, x2, p1, p2, m = sp.symbols('x1 x2 p1 p2 m')\n",
    "    text_function = input(\"\"\"Please type function (Ex: 3*x1 + 2*x2): \"\"\")\n",
    "    utility_function = sp.sympify(text_function)\n",
    "    mux = utility_function.diff(x1)\n",
    "    muy = utility_function.diff(x2)\n",
    "    print(\"GRS =  %s / %s\" % (mux, muy))\n",
    "    if mux == 1 and muy == 1:\n",
    "        print(\"A = [0;1]\")\n",
    "        print(\"\"\"\n",
    "            marshallsche(x1) = {m/p_1          p_1<p_2\n",
    "                    {m/p_1 * A      p_1=p_2\n",
    "                    {0              p_1>p_2\n",
    "            \"\"\")\n",
    "        print(\"\"\"\n",
    "            marshallsche(x2) = {0              p_1<p_2\n",
    "                    {m/p_2 * (A-1)  p_1=p_2\n",
    "                    {m/p_2          p_1>p_2\n",
    "            \"\"\")\n",
    "    else:\n",
    "        print(\"A = [0;1]\")\n",
    "        print(\"\"\"\n",
    "            marshallsche(x1) = {m/p_1          p_1/p_2 < %s / %s\n",
    "                    {m/p_1 * A      p_1/p_2 = %s / %s\n",
    "                    {0              p_1/p_2 > %s / %s\n",
    "            \"\"\" % (mux, muy, mux, muy, mux, muy))\n",
    "        print(\"\"\"\n",
    "            marshallsche(x1) = {0              p_1/p_2 < %s / %s\n",
    "                    {m/p_2 * (A-1)  p_1/p_2 = %s / %s\n",
    "                    {m/p_2          p_1/p_2 > %s / %s\n",
    "            \"\"\" % (mux, muy, mux, muy, mux, muy))\n",
    "        print(\"\"\"\n",
    "            v =     {%sm/p_1                              p_1/p_2 < %s / %s\n",
    "                    {%s(m/p_1 * A) - %s(m/p_2 * (A-1))    p_1/p_2 = %s / %s\n",
    "                    {%sm/p_2                              p_1/p_2 > %s / %s\n",
    "            \"\"\" % (mux, mux, muy, mux, muy, mux, muy, muy, mux, muy))\n",
    "\n",
    "    next_step = input(\"\"\"\n",
    "                    1) Price relationship\n",
    "                    99) Exit\n",
    "                    \"\"\")\n",
    "    if int(next_step) == 1:\n",
    "        price_one = input(\"Whats the price of good one?   \")\n",
    "        price_two = input(\"Whats the price of good two?   \")\n",
    "        goods = int(mux) / int(muy)\n",
    "        price = int(price_one) / int(price_two)\n",
    "        if goods > price:\n",
    "            print(\"Consumer buys everything of x1 and nothing of x2\")\n",
    "            print(\"%s > %s\" % (goods, price))\n",
    "        elif goods == price:\n",
    "            print(\"Consumer is at indifference curve\")\n",
    "            print(\"%s = %s\" % (goods, price))\n",
    "        else:\n",
    "            print(\"Consumer buys everything of x2 and nothing of x1\")\n",
    "            print(\"%s < %s\" % (goods, price))\n",
    "    else:\n",
    "        exit()\n",
    "\n",
    "\n",
    "def max():\n",
    "    print(\"max\")\n",
    "\n",
    "\n",
    "def min():\n",
    "    print(\"min\")\n",
    "\n",
    "\n",
    "def quasilinear():\n",
    "    x1, x2, p1, p2, m = sp.symbols('x1 x2 p1 p2 m')\n",
    "    text_function = input(\"\"\"Please type function (Ex: ln(x1) + x2): \"\"\")\n",
    "    utility_function = sp.sympify(text_function)\n",
    "    mux = utility_function.diff(x1)\n",
    "    muy = utility_function.diff(x2)\n",
    "    print(\"GRS =  %s / %s\" % (mux, muy))\n",
    "    eq1 = sp.Eq(mux / muy, p1 / p2)\n",
    "    ans = sp.solve(eq1, x2)\n",
    "    print(ans[0])\n",
    "    pres = p1 * x1 + x2 * p2\n",
    "    pres = pres.subs(x2, ans[0])\n",
    "    pres = sp.simplify(pres)\n",
    "    xTwoMarshall = sp.Eq(pres, m)\n",
    "    xTwoMarshall = sp.solve(xTwoMarshall, x1)\n",
    "    print(xTwoMarshall)\n",
    "    for i in text_function.split():\n",
    "        if i == \"ln(x1)\":\n",
    "            print(\"\"\"\n",
    "                marshallsche(x1) = {m/p_1          p_1/p_2 < %s / %s\n",
    "                        {m/p_1 * A      p_1/p_2 = %s / %s\n",
    "                        {0              p_1/p_2 > %s / %s\n",
    "                \"\"\" % (mux, muy, mux, muy, mux, muy))\n",
    "            print(\"\"\"\n",
    "                marshallsche(x12) = {0              p_1/p_2 < %s / %s\n",
    "                        {m/p_2 * (A-1)  p_1/p_2 = %s / %s\n",
    "                        {m/p_2          p_1/p_2 > %s / %s\n",
    "                \"\"\" % (mux, muy, mux, muy, mux, muy))\n",
    "            print(\"\"\"\n",
    "                v =     {%sm/p_1                              p_1/p_2 < %s / %s\n",
    "                        {%s(m/p_1 * A) - %s(m/p_2 * (A-1))    p_1/p_2 = %s / %s\n",
    "                        {%sm/p_2                              p_1/p_2 > %s / %s\n",
    "                \"\"\" % (mux, mux, muy, mux, muy, mux, muy, muy, mux, muy))\n",
    "        elif i == \"ln(x2)\":\n",
    "            print(\"\"\"\n",
    "                marshallsche(x1) = {m/p_1          p_1/p_2 < %s / %s\n",
    "                        {m/p_1 * A      p_1/p_2 = %s / %s\n",
    "                        {0              p_1/p_2 > %s / %s\n",
    "                \"\"\" % (mux, muy, mux, muy, mux, muy))\n",
    "            print(\"\"\"\n",
    "                marshallsche(x2) = {0              p_1/p_2 < %s / %s\n",
    "                        {m/p_2 * (A-1)  p_1/p_2 = %s / %s\n",
    "                        {m/p_2          p_1/p_2 > %s / %s\n",
    "                \"\"\" % (mux, muy, mux, muy, mux, muy))\n",
    "            print(\"\"\"\n",
    "                v =     {%sm/p_1                              p_1/p_2 < %s / %s\n",
    "                        {%s(m/p_1 * A) - %s(m/p_2 * (A-1))    p_1/p_2 = %s / %s\n",
    "                        {%sm/p_2                              p_1/p_2 > %s / %s\n",
    "                \"\"\" % (mux, mux, muy, mux, muy, mux, muy, muy, mux, muy))\n",
    "\n"
   ]
  },
  {
   "cell_type": "code",
   "execution_count": 3,
   "id": "c6197d54",
   "metadata": {
    "scrolled": true
   },
   "outputs": [],
   "source": [
    "def run():\n",
    "    function_question = input(\"\"\"Select Function:\n",
    "                            1) Cobb-Douglas\n",
    "                            2) Linear\n",
    "                            3) Max\n",
    "                            4) Min\n",
    "                            5) Quasilinear\n",
    "                            6) Start with Marshallian demand\n",
    "                            7) Start with Hicksian demand\n",
    "                            8) Calculate variations and good type\n",
    "                            9) Calculate effects {from} variations\n",
    "                            \"\"\")\n",
    "\n",
    "    if int(function_question) == 1:\n",
    "        cobbDouglas()\n",
    "    elif int(function_question) == 2:\n",
    "        linear()\n",
    "    elif int(function_question) == 3:\n",
    "        max()\n",
    "    elif int(function_question) == 4:\n",
    "        min()\n",
    "    elif int(function_question) == 5:\n",
    "        quasilinear()"
   ]
  },
  {
   "cell_type": "code",
   "execution_count": 4,
   "id": "78aea96c",
   "metadata": {},
   "outputs": [],
   "source": [
    "# 4*m/(5*p1)\n",
    "\n",
    "def preis_elastizität():\n",
    "    x1, x2, p1, p2, m, u, p = sp.symbols('x1 x2 p1 p2 m u p')\n",
    "    text_nachfrage = input(\"\"\"Please type in marshallsche Nachfrage bsp: 4*m/(5*p1): \"\"\")\n",
    "    ableitung_nach = input(\"\"\"welche variable hat der preis von der eingegebenen Nachfrage (p1 oder p2)!: \"\"\")\n",
    "    utility_function = sp.sympify(text_nachfrage)\n",
    "    if ableitung_nach == \"p1\":\n",
    "        ableitung = utility_function.diff(p1)\n",
    "        elastiztät = ableitung * (p1/utility_function)\n",
    "    elif ableitung_nach == \"p2\":\n",
    "        ableitung = utility_function.diff(p2)\n",
    "        elastiztät = ableitung * (p2/utility_function)\n",
    "    else:\n",
    "        print(\"wrong input!\")\n",
    "        return\n",
    "    \n",
    "    \n",
    "    #printout\n",
    "    print(f\"\")\n",
    "    print(f\"preis elastiztät: {simplify(elastiztät)}\\n\")\n",
    "    if simplify(elastiztät) > -1:\n",
    "        print(f\"unelastische Nachfrage\\n\")\n",
    "    elif simplify(elastiztät) == -1:\n",
    "        print(f\"einheitselastische Nachfrage\\n\")\n",
    "    elif simplify(elastiztät) < -1:\n",
    "        print(f\"elastische Nachfrage\\n\")\n",
    "\n",
    "def einkommens_elastizität():\n",
    "    x1, x2, p1, p2, m, u, p = sp.symbols('x1 x2 p1 p2 m u p')\n",
    "    text_nachfrage = input(\"\"\"Please type in marshallsche Nachfrage  bsp: 4*m/(5*p): \"\"\")\n",
    "    utility_function = sp.sympify(text_nachfrage)\n",
    "    ableitung = utility_function.diff(m)\n",
    "    elastiztät = ableitung * (m/utility_function)\n",
    "    \n",
    "    #printout\n",
    "    print(f\"\")\n",
    "    print(f\"einkommens elastiztät: {simplify(elastiztät)}\\n\")\n",
    "    if simplify(elastiztät) <= 0:\n",
    "        print(f\"inferiores Gut\\n\")\n",
    "    elif 0 < simplify(elastiztät) <= 1:\n",
    "        print(f\"normales Gut (notwendiges Gut)\\n\")\n",
    "    elif simplify(elastiztät) > 1:\n",
    "        print(f\"normales Gut (Luxusgut)\\n\")\n",
    "        \n",
    "#def kreuzpreis_elastizität():\n",
    "#    x1, x2, p1, p2, m, u, p = sp.symbols('x1 x2 p1 p2 m u p')\n",
    "#    text_nachfrage = input(\"\"\"Please type in marshallsche Nachfrage bsp: 4*m/(5*p): \"\"\")\n",
    "#    utility_function = sp.sympify(text_nachfrage)\n",
    "#    ableitung = utility_function.diff(p)\n",
    "#    elastiztät = ableitung * (p/utility_function)\n",
    "    \n",
    "#    #printout\n",
    "#    print(f\"\")\n",
    "#    print(f\"preiselastiztät: {simplify(elastiztät)}\\n\")\n",
    "#    if simplify(elastiztät) > -1:\n",
    "#        print(f\"unelastische Nachfrage\\n\")\n",
    "#    elif simplify(elastiztät) == -1:\n",
    "#        print(f\"einheitselastische Nachfrage\\n\")\n",
    "#    elif simplify(elastiztät) < -1:\n",
    "#        print(f\"elastische Nachfrage\\n\")\n",
    "    \n",
    "#preis_elastizität()"
   ]
  },
  {
   "cell_type": "code",
   "execution_count": null,
   "id": "8f1915ed",
   "metadata": {},
   "outputs": [],
   "source": []
  },
  {
   "cell_type": "code",
   "execution_count": null,
   "id": "f03092e4",
   "metadata": {},
   "outputs": [],
   "source": []
  },
  {
   "cell_type": "code",
   "execution_count": null,
   "id": "a05dda02",
   "metadata": {},
   "outputs": [],
   "source": []
  },
  {
   "cell_type": "code",
   "execution_count": null,
   "id": "a3a98940",
   "metadata": {},
   "outputs": [],
   "source": []
  },
  {
   "cell_type": "markdown",
   "id": "a0a749b3",
   "metadata": {},
   "source": [
    "# nachfrage bestimmen"
   ]
  },
  {
   "cell_type": "code",
   "execution_count": 5,
   "id": "2f1eb079",
   "metadata": {
    "scrolled": true
   },
   "outputs": [
    {
     "name": "stdout",
     "output_type": "stream",
     "text": [
      "Select Function:\n",
      "                            1) Cobb-Douglas\n",
      "                            2) Linear\n",
      "                            3) Max\n",
      "                            4) Min\n",
      "                            5) Quasilinear\n",
      "                            6) Start with Marshallian demand\n",
      "                            7) Start with Hicksian demand\n",
      "                            8) Calculate variations and good type\n",
      "                            9) Calculate effects {from} variations\n",
      "                            5\n",
      "Please type function (Ex: ln(x1) + x2): (x1^(1/3) + x2^(1/3))^3\n",
      "GRS =  (x1**(1/3) + x2**(1/3))**2/x1**(2/3) / (x1**(1/3) + x2**(1/3))**2/x2**(2/3)\n",
      "-x1*(p1/p2)**(3/2)\n",
      "[m/(p1 - p2*(p1/p2)**(3/2))]\n"
     ]
    }
   ],
   "source": [
    "run()"
   ]
  },
  {
   "cell_type": "markdown",
   "id": "bef4cc16",
   "metadata": {},
   "source": [
    "# sympify"
   ]
  },
  {
   "cell_type": "code",
   "execution_count": 6,
   "id": "ac05ce0b",
   "metadata": {},
   "outputs": [
    {
     "name": "stdout",
     "output_type": "stream",
     "text": [
      "0.784052681683116*(p2**3*u/p1**3)**0.2\n"
     ]
    }
   ],
   "source": [
    "x1, x2, p1, p2, m, u, h, K, L, a, b = sp.symbols('x1 x2 p1 p2 m u, h, K, L, a, b')\n",
    "expression = 2**(3/5)*3**(2/5)*(p2**3*u/p1**3)**(1/5)/3\n",
    "print(sympify(expression))\n"
   ]
  },
  {
   "cell_type": "markdown",
   "id": "b1445730",
   "metadata": {},
   "source": [
    "\n",
    "# nachfrage ausrechen"
   ]
  },
  {
   "cell_type": "code",
   "execution_count": 7,
   "id": "e040d4af",
   "metadata": {},
   "outputs": [
    {
     "name": "stdout",
     "output_type": "stream",
     "text": [
      "0.3004610430077213\n"
     ]
    }
   ],
   "source": [
    "# if u or m is not beeing used declate it as 1 \n",
    "\n",
    "u = 11\n",
    "m = 1\n",
    "p1 = 11\n",
    "p2 = 1\n",
    "e = 39\n",
    "nachfrage_funktion = 2**(3/5)*3**(2/5)*(p2**3*u/p1**3)**(1/5)/3\n",
    "\n",
    "#print statement\n",
    "print(nachfrage_funktion)"
   ]
  },
  {
   "cell_type": "markdown",
   "id": "f2db1bbd",
   "metadata": {},
   "source": [
    "# preis elatizität ausrechen\n"
   ]
  },
  {
   "cell_type": "code",
   "execution_count": null,
   "id": "1cfc13e9",
   "metadata": {},
   "outputs": [],
   "source": [
    "preis_elastizität()"
   ]
  },
  {
   "cell_type": "markdown",
   "id": "c26a899c",
   "metadata": {},
   "source": [
    "# einkommens elatizität ausrechen"
   ]
  },
  {
   "cell_type": "code",
   "execution_count": null,
   "id": "50d85f8e",
   "metadata": {},
   "outputs": [],
   "source": [
    "einkommens_elastizität()"
   ]
  },
  {
   "cell_type": "markdown",
   "id": "0796f867",
   "metadata": {},
   "source": [
    "# "
   ]
  }
 ],
 "metadata": {
  "kernelspec": {
   "display_name": "Python 3 (ipykernel)",
   "language": "python",
   "name": "python3"
  },
  "language_info": {
   "codemirror_mode": {
    "name": "ipython",
    "version": 3
   },
   "file_extension": ".py",
   "mimetype": "text/x-python",
   "name": "python",
   "nbconvert_exporter": "python",
   "pygments_lexer": "ipython3",
   "version": "3.9.7"
  },
  "varInspector": {
   "cols": {
    "lenName": 16,
    "lenType": 16,
    "lenVar": 40
   },
   "kernels_config": {
    "python": {
     "delete_cmd_postfix": "",
     "delete_cmd_prefix": "del ",
     "library": "var_list.py",
     "varRefreshCmd": "print(var_dic_list())"
    },
    "r": {
     "delete_cmd_postfix": ") ",
     "delete_cmd_prefix": "rm(",
     "library": "var_list.r",
     "varRefreshCmd": "cat(var_dic_list()) "
    }
   },
   "types_to_exclude": [
    "module",
    "function",
    "builtin_function_or_method",
    "instance",
    "_Feature"
   ],
   "window_display": false
  }
 },
 "nbformat": 4,
 "nbformat_minor": 5
}
