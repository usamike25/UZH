{
 "cells": [
  {
   "cell_type": "code",
   "execution_count": 6,
   "id": "962adcb7",
   "metadata": {},
   "outputs": [],
   "source": [
    "import pandas as pd"
   ]
  },
  {
   "cell_type": "markdown",
   "id": "cc823a69",
   "metadata": {},
   "source": [
    "# inputs"
   ]
  },
  {
   "cell_type": "code",
   "execution_count": 7,
   "id": "d91b2559",
   "metadata": {},
   "outputs": [],
   "source": [
    "cash_flow_geschäft = [-4858333, -6700000, -2350000, 5241667, 19450000, 37085244] \n",
    "cash_flow_investition = [-750000, -200000, -570000, -550000, -420000, -883500]\n",
    "fremd_kapital = [400000]\n",
    "diskontierungssatz_J_nach_prognosezeitraum = 0.15 #als dezimal zahl -> 50% = 0.5\n",
    "diskontierungssatz_für_den_Prognosezeitraum = 0.4 #als dezimal zahl -> 50% = 0.5\n",
    "diskontierungsfaktor = [0.714, 0.51, 0.364, 0.260, 0.186]\n",
    "wachstumsrate_nach_prognosezeitraum = 0.05\n",
    "prognose_zeitraum = 5 #in %\n",
    "\n"
   ]
  },
  {
   "cell_type": "code",
   "execution_count": 8,
   "id": "aba095c1",
   "metadata": {},
   "outputs": [],
   "source": [
    "def run():\n",
    "    r = diskontierungssatz_für_den_Prognosezeitraum\n",
    "    M = prognose_zeitraum\n",
    "    Unternehmenswert = 0\n",
    "\n",
    "    for i in range(prognose_zeitraum):\n",
    "        wert = (cash_flow_geschäft[i] + cash_flow_investition[i])/((1 + r)**(i+1))\n",
    "        Unternehmenswert += wert\n",
    "        \n",
    "\n",
    "        print(f\"Unternehmenswert jahr {i+1}: {int(wert)}\")\n",
    "\n",
    "    Unternehmenswert += (cash_flow_geschäft[prognose_zeitraum] + cash_flow_investition[prognose_zeitraum])/((diskontierungssatz_J_nach_prognosezeitraum-wachstumsrate_nach_prognosezeitraum)*((1 + diskontierungssatz_für_den_Prognosezeitraum)**prognose_zeitraum))\n",
    "    Unternehmenswert += -(fremd_kapital[0])\n",
    "    print(f\"Unternehmenswert total : {int(Unternehmenswert)}\")\n",
    "\n",
    "\n"
   ]
  },
  {
   "cell_type": "code",
   "execution_count": 9,
   "id": "ce649c74",
   "metadata": {},
   "outputs": [
    {
     "name": "stdout",
     "output_type": "stream",
     "text": [
      "Unternehmenswert jahr 1: -4005952\n",
      "Unternehmenswert jahr 2: -3520408\n",
      "Unternehmenswert jahr 3: -1064139\n",
      "Unternehmenswert jahr 4: 1221279\n",
      "Unternehmenswert jahr 5: 3538332\n",
      "Unternehmenswert total : 63080618\n"
     ]
    }
   ],
   "source": [
    "run()"
   ]
  },
  {
   "cell_type": "code",
   "execution_count": null,
   "id": "74e3360a",
   "metadata": {},
   "outputs": [],
   "source": []
  },
  {
   "cell_type": "code",
   "execution_count": null,
   "id": "25341b27",
   "metadata": {},
   "outputs": [],
   "source": []
  }
 ],
 "metadata": {
  "kernelspec": {
   "display_name": "Python 3 (ipykernel)",
   "language": "python",
   "name": "python3"
  },
  "language_info": {
   "codemirror_mode": {
    "name": "ipython",
    "version": 3
   },
   "file_extension": ".py",
   "mimetype": "text/x-python",
   "name": "python",
   "nbconvert_exporter": "python",
   "pygments_lexer": "ipython3",
   "version": "3.9.7"
  },
  "varInspector": {
   "cols": {
    "lenName": 16,
    "lenType": 16,
    "lenVar": 40
   },
   "kernels_config": {
    "python": {
     "delete_cmd_postfix": "",
     "delete_cmd_prefix": "del ",
     "library": "var_list.py",
     "varRefreshCmd": "print(var_dic_list())"
    },
    "r": {
     "delete_cmd_postfix": ") ",
     "delete_cmd_prefix": "rm(",
     "library": "var_list.r",
     "varRefreshCmd": "cat(var_dic_list()) "
    }
   },
   "types_to_exclude": [
    "module",
    "function",
    "builtin_function_or_method",
    "instance",
    "_Feature"
   ],
   "window_display": false
  }
 },
 "nbformat": 4,
 "nbformat_minor": 5
}
